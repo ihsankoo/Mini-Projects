{
 "cells": [
  {
   "cell_type": "code",
   "execution_count": 16,
   "id": "a352e6b0",
   "metadata": {},
   "outputs": [],
   "source": [
    "import os\n",
    "import pandas as pd"
   ]
  },
  {
   "cell_type": "code",
   "execution_count": 13,
   "id": "4d3591d7",
   "metadata": {},
   "outputs": [
    {
     "data": {
      "text/plain": [
       "['.DS_Store',\n",
       " 'Untitled.ipynb',\n",
       " 'library.csv',\n",
       " 'untitled.txt',\n",
       " '.ipynb_checkpoints']"
      ]
     },
     "execution_count": 13,
     "metadata": {},
     "output_type": "execute_result"
    }
   ],
   "source": [
    "os.listdir()"
   ]
  },
  {
   "cell_type": "code",
   "execution_count": 45,
   "id": "75ae6c69",
   "metadata": {},
   "outputs": [],
   "source": [
    "myVars = vars()"
   ]
  },
  {
   "cell_type": "code",
   "execution_count": 46,
   "id": "bc30186e",
   "metadata": {},
   "outputs": [],
   "source": [
    "df_list = ['df_'+ str(i) for i in range(len(os.listdir()))]\n",
    "for i in os.listdir():\n",
    "    for y in df_list:\n",
    "        if i[-4:]== '.csv':\n",
    "            myVars[y] = pd.read_csv(i)  \n",
    "        break"
   ]
  },
  {
   "cell_type": "code",
   "execution_count": 43,
   "id": "7257263a",
   "metadata": {},
   "outputs": [
    {
     "data": {
      "text/plain": [
       "['df_0', 'df_1', 'df_2', 'df_3', 'df_4']"
      ]
     },
     "execution_count": 43,
     "metadata": {},
     "output_type": "execute_result"
    }
   ],
   "source": [
    "df_list"
   ]
  },
  {
   "cell_type": "code",
   "execution_count": 49,
   "id": "957b606c",
   "metadata": {},
   "outputs": [
    {
     "data": {
      "text/html": [
       "<div>\n",
       "<style scoped>\n",
       "    .dataframe tbody tr th:only-of-type {\n",
       "        vertical-align: middle;\n",
       "    }\n",
       "\n",
       "    .dataframe tbody tr th {\n",
       "        vertical-align: top;\n",
       "    }\n",
       "\n",
       "    .dataframe thead th {\n",
       "        text-align: right;\n",
       "    }\n",
       "</style>\n",
       "<table border=\"1\" class=\"dataframe\">\n",
       "  <thead>\n",
       "    <tr style=\"text-align: right;\">\n",
       "      <th></th>\n",
       "      <th>Another One Bites The Dust</th>\n",
       "      <th>Queen</th>\n",
       "      <th>Greatest Hits</th>\n",
       "      <th>55</th>\n",
       "      <th>100</th>\n",
       "      <th>217</th>\n",
       "    </tr>\n",
       "  </thead>\n",
       "  <tbody>\n",
       "    <tr>\n",
       "      <th>0</th>\n",
       "      <td>Asche Zu Asche</td>\n",
       "      <td>Rammstein</td>\n",
       "      <td>Herzeleid</td>\n",
       "      <td>79.0</td>\n",
       "      <td>100.0</td>\n",
       "      <td>231</td>\n",
       "    </tr>\n",
       "    <tr>\n",
       "      <th>1</th>\n",
       "      <td>Beauty School Dropout</td>\n",
       "      <td>Various</td>\n",
       "      <td>Grease</td>\n",
       "      <td>48.0</td>\n",
       "      <td>100.0</td>\n",
       "      <td>239</td>\n",
       "    </tr>\n",
       "    <tr>\n",
       "      <th>2</th>\n",
       "      <td>Black Dog</td>\n",
       "      <td>Led Zeppelin</td>\n",
       "      <td>IV</td>\n",
       "      <td>109.0</td>\n",
       "      <td>100.0</td>\n",
       "      <td>296</td>\n",
       "    </tr>\n",
       "    <tr>\n",
       "      <th>3</th>\n",
       "      <td>Bring The Boys Back Home</td>\n",
       "      <td>Pink Floyd</td>\n",
       "      <td>The Wall [Disc 2]</td>\n",
       "      <td>33.0</td>\n",
       "      <td>100.0</td>\n",
       "      <td>87</td>\n",
       "    </tr>\n",
       "    <tr>\n",
       "      <th>4</th>\n",
       "      <td>Circles</td>\n",
       "      <td>Bryan Lee</td>\n",
       "      <td>Blues Is</td>\n",
       "      <td>54.0</td>\n",
       "      <td>60.0</td>\n",
       "      <td>355</td>\n",
       "    </tr>\n",
       "    <tr>\n",
       "      <th>...</th>\n",
       "      <td>...</td>\n",
       "      <td>...</td>\n",
       "      <td>...</td>\n",
       "      <td>...</td>\n",
       "      <td>...</td>\n",
       "      <td>...</td>\n",
       "    </tr>\n",
       "    <tr>\n",
       "      <th>290</th>\n",
       "      <td>Goodbye Daughters of the Revolution</td>\n",
       "      <td>The Black Crowes</td>\n",
       "      <td>Warpaint</td>\n",
       "      <td>NaN</td>\n",
       "      <td>NaN</td>\n",
       "      <td>304</td>\n",
       "    </tr>\n",
       "    <tr>\n",
       "      <th>291</th>\n",
       "      <td>Walk Believer Walk</td>\n",
       "      <td>The Black Crowes</td>\n",
       "      <td>Warpaint</td>\n",
       "      <td>NaN</td>\n",
       "      <td>NaN</td>\n",
       "      <td>280</td>\n",
       "    </tr>\n",
       "    <tr>\n",
       "      <th>292</th>\n",
       "      <td>Choice Hotels International</td>\n",
       "      <td>Undercover Boss</td>\n",
       "      <td>Undercover Boss, Season 2</td>\n",
       "      <td>1.0</td>\n",
       "      <td>NaN</td>\n",
       "      <td>2614</td>\n",
       "    </tr>\n",
       "    <tr>\n",
       "      <th>293</th>\n",
       "      <td>Microchip</td>\n",
       "      <td>Jason Farnham</td>\n",
       "      <td>YouTube Audio Library</td>\n",
       "      <td>NaN</td>\n",
       "      <td>NaN</td>\n",
       "      <td>114</td>\n",
       "    </tr>\n",
       "    <tr>\n",
       "      <th>294</th>\n",
       "      <td>Anant Agarwal</td>\n",
       "      <td>IEEE Computer Society</td>\n",
       "      <td>Computing Conversations</td>\n",
       "      <td>NaN</td>\n",
       "      <td>NaN</td>\n",
       "      <td>494</td>\n",
       "    </tr>\n",
       "  </tbody>\n",
       "</table>\n",
       "<p>295 rows × 6 columns</p>\n",
       "</div>"
      ],
      "text/plain": [
       "              Another One Bites The Dust                  Queen  \\\n",
       "0                         Asche Zu Asche              Rammstein   \n",
       "1                  Beauty School Dropout                Various   \n",
       "2                              Black Dog           Led Zeppelin   \n",
       "3               Bring The Boys Back Home             Pink Floyd   \n",
       "4                                Circles              Bryan Lee   \n",
       "..                                   ...                    ...   \n",
       "290  Goodbye Daughters of the Revolution       The Black Crowes   \n",
       "291                   Walk Believer Walk       The Black Crowes   \n",
       "292          Choice Hotels International        Undercover Boss   \n",
       "293                            Microchip          Jason Farnham   \n",
       "294                        Anant Agarwal  IEEE Computer Society   \n",
       "\n",
       "                 Greatest Hits     55    100   217  \n",
       "0                    Herzeleid   79.0  100.0   231  \n",
       "1                       Grease   48.0  100.0   239  \n",
       "2                           IV  109.0  100.0   296  \n",
       "3            The Wall [Disc 2]   33.0  100.0    87  \n",
       "4                     Blues Is   54.0   60.0   355  \n",
       "..                         ...    ...    ...   ...  \n",
       "290                   Warpaint    NaN    NaN   304  \n",
       "291                   Warpaint    NaN    NaN   280  \n",
       "292  Undercover Boss, Season 2    1.0    NaN  2614  \n",
       "293      YouTube Audio Library    NaN    NaN   114  \n",
       "294    Computing Conversations    NaN    NaN   494  \n",
       "\n",
       "[295 rows x 6 columns]"
      ]
     },
     "execution_count": 49,
     "metadata": {},
     "output_type": "execute_result"
    }
   ],
   "source": [
    "df_0"
   ]
  },
  {
   "cell_type": "code",
   "execution_count": 51,
   "id": "abc26c56",
   "metadata": {},
   "outputs": [],
   "source": []
  },
  {
   "cell_type": "code",
   "execution_count": 52,
   "id": "f86efad0",
   "metadata": {},
   "outputs": [
    {
     "data": {
      "text/plain": [
       "3"
      ]
     },
     "execution_count": 52,
     "metadata": {},
     "output_type": "execute_result"
    }
   ],
   "source": []
  },
  {
   "cell_type": "code",
   "execution_count": null,
   "id": "58f5d8c5",
   "metadata": {},
   "outputs": [],
   "source": []
  }
 ],
 "metadata": {
  "kernelspec": {
   "display_name": "Python 3 (ipykernel)",
   "language": "python",
   "name": "python3"
  },
  "language_info": {
   "codemirror_mode": {
    "name": "ipython",
    "version": 3
   },
   "file_extension": ".py",
   "mimetype": "text/x-python",
   "name": "python",
   "nbconvert_exporter": "python",
   "pygments_lexer": "ipython3",
   "version": "3.9.12"
  }
 },
 "nbformat": 4,
 "nbformat_minor": 5
}
